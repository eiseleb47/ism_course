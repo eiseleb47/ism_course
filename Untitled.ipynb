{
 "cells": [
  {
   "cell_type": "code",
   "execution_count": 1,
   "id": "b037b27a-0fea-44fb-b5ce-6089d5a32644",
   "metadata": {
    "deletable": true,
    "editable": true,
    "execution": {
     "iopub.execute_input": "2025-10-17T16:08:11.429044Z",
     "iopub.status.busy": "2025-10-17T16:08:11.428487Z",
     "iopub.status.idle": "2025-10-17T16:08:12.703735Z",
     "shell.execute_reply": "2025-10-17T16:08:12.702807Z",
     "shell.execute_reply.started": "2025-10-17T16:08:11.428999Z"
    },
    "frozen": false
   },
   "outputs": [],
   "source": [
    "# you can skip it, I just like interactive charts\n",
    "%matplotlib Qt"
   ]
  },
  {
   "cell_type": "code",
   "execution_count": 2,
   "id": "34b6ebb6-9059-4577-9247-304f82dc7b05",
   "metadata": {
    "deletable": true,
    "editable": true,
    "execution": {
     "iopub.execute_input": "2025-10-17T16:08:13.271468Z",
     "iopub.status.busy": "2025-10-17T16:08:13.270602Z",
     "iopub.status.idle": "2025-10-17T16:08:14.162036Z",
     "shell.execute_reply": "2025-10-17T16:08:14.161042Z",
     "shell.execute_reply.started": "2025-10-17T16:08:13.271411Z"
    },
    "frozen": false
   },
   "outputs": [],
   "source": [
    "import numpy as np\n",
    "from matplotlib import pyplot as plt\n",
    "from astropy.coordinates import SkyCoord\n",
    "import astropy.units as u\n",
    "import pandas as pd\n",
    "# nice progressbar\n",
    "from tqdm import tqdm"
   ]
  },
  {
   "cell_type": "code",
   "execution_count": 3,
   "id": "205a359b-dcde-42bd-ae2a-89701e1e9d74",
   "metadata": {
    "deletable": true,
    "editable": true,
    "execution": {
     "iopub.execute_input": "2025-10-17T16:08:15.270445Z",
     "iopub.status.busy": "2025-10-17T16:08:15.270045Z",
     "iopub.status.idle": "2025-10-17T16:08:15.665376Z",
     "shell.execute_reply": "2025-10-17T16:08:15.662108Z",
     "shell.execute_reply.started": "2025-10-17T16:08:15.270418Z"
    },
    "frozen": false
   },
   "outputs": [],
   "source": [
    "data = pd.read_csv(\"gaia.csv\")\n",
    "# TODO: filter the magnitudes\n",
    "coords = SkyCoord(ra=data[\"RA_ICRS\"], dec=data[\"DE_ICRS\"], frame='icrs', unit=u.degree)"
   ]
  },
  {
   "cell_type": "markdown",
   "id": "537f68cc-6b5a-4fe4-a880-5dff38997aea",
   "metadata": {},
   "source": [
    "#### Grid"
   ]
  },
  {
   "cell_type": "markdown",
   "id": "2373ad2c-0b7b-46a9-aa8f-b64a87d0d66d",
   "metadata": {},
   "source": [
    "I create a rectangular grid. The boundaries are minimal and maximal RA and DEC from the given catalogue."
   ]
  },
  {
   "cell_type": "code",
   "execution_count": 23,
   "id": "a37f272a-9f3d-472c-b9c5-24c54a412505",
   "metadata": {
    "deletable": true,
    "editable": true,
    "execution": {
     "iopub.execute_input": "2025-10-17T16:26:54.385527Z",
     "iopub.status.busy": "2025-10-17T16:26:54.385016Z",
     "iopub.status.idle": "2025-10-17T16:26:54.395232Z",
     "shell.execute_reply": "2025-10-17T16:26:54.393725Z",
     "shell.execute_reply.started": "2025-10-17T16:26:54.385484Z"
    },
    "frozen": false
   },
   "outputs": [],
   "source": [
    "grid_step = 1 # in arcmin\n",
    "ra_grid = np.arange(coords.ra.min().to(u.arcmin).value, coords.ra.max().to(u.arcmin).value, 1)\n",
    "dec_grid = np.arange(coords.dec.min().to(u.arcmin).value, coords.dec.max().to(u.arcmin).value, 1)\n",
    "ra_v, dec_v = np.meshgrid(ra_grid, dec_grid)\n",
    "# now grid is a 2-d array, each element is SkyCoord (ra,dec)\n",
    "grid = SkyCoord(ra_v, dec_v, unit=u.arcmin)"
   ]
  },
  {
   "cell_type": "markdown",
   "id": "4bc8e7c3-3349-4196-bd99-74afe029a16b",
   "metadata": {},
   "source": [
    "#### Sourse density map"
   ]
  },
  {
   "cell_type": "code",
   "execution_count": 29,
   "id": "2e733f36-a5b8-40a5-89d6-420f5a040745",
   "metadata": {
    "deletable": true,
    "execution": {
     "iopub.execute_input": "2025-10-17T16:33:17.606925Z",
     "iopub.status.busy": "2025-10-17T16:33:17.606504Z",
     "iopub.status.idle": "2025-10-17T16:34:02.126399Z",
     "shell.execute_reply": "2025-10-17T16:34:02.124656Z",
     "shell.execute_reply.started": "2025-10-17T16:33:17.606893Z"
    },
    "frozen": false
   },
   "outputs": [
    {
     "name": "stderr",
     "output_type": "stream",
     "text": [
      "100%|█████████████████████████████████████████| 120/120 [00:43<00:00,  2.75it/s]\n"
     ]
    }
   ],
   "source": [
    "density = np.zeros_like(grid, dtype=float)\n",
    "\n",
    "imax, jmax = grid.shape\n",
    "\n",
    "# it takes about 40s on my computer with density_window=5\n",
    "density_window = 3*u.arcmin # diameter of region in which we calculate density\n",
    "for i in tqdm(range(imax)):\n",
    "    for j in range(jmax):\n",
    "        mask = grid[i,j].separation(coords) < density_window\n",
    "        density[i,j] = len(mask[mask])"
   ]
  },
  {
   "cell_type": "code",
   "execution_count": 70,
   "id": "f13b5066-cc8c-42fe-acb3-7672c840978e",
   "metadata": {
    "deletable": true,
    "editable": true,
    "frozen": false
   },
   "outputs": [
    {
     "data": {
      "text/plain": [
       "<matplotlib.image.AxesImage at 0x7c24fc62b740>"
      ]
     },
     "execution_count": 70,
     "metadata": {},
     "output_type": "execute_result"
    },
    {
     "name": "stderr",
     "output_type": "stream",
     "text": [
      "\n",
      "(python3:40842): IBUS-WARNING **: 17:44:24.769: Unable to connect to ibus: Could not connect: Connection refused\n"
     ]
    }
   ],
   "source": [
    "# need to inverse array so that it cossesponds to the aladin axis orientation\n",
    "# TODO: add WCS here\n",
    "plt.imshow(density[:,::-1], origin='lower')"
   ]
  },
  {
   "cell_type": "markdown",
   "id": "fd08a9d0-8ab8-4bbd-8bc3-abae882ded70",
   "metadata": {},
   "source": [
    "## Source histogram"
   ]
  },
  {
   "cell_type": "code",
   "execution_count": 26,
   "id": "e0580000-dac2-4bd1-bc06-ec63aab2e0c9",
   "metadata": {
    "deletable": true,
    "editable": true,
    "execution": {
     "iopub.execute_input": "2025-10-17T16:30:49.502398Z",
     "iopub.status.busy": "2025-10-17T16:30:49.501949Z",
     "iopub.status.idle": "2025-10-17T16:30:49.519444Z",
     "shell.execute_reply": "2025-10-17T16:30:49.518107Z",
     "shell.execute_reply.started": "2025-10-17T16:30:49.502364Z"
    },
    "frozen": false
   },
   "outputs": [],
   "source": [
    "data = data.dropna(subset=['Gmag'])"
   ]
  },
  {
   "cell_type": "code",
   "execution_count": 27,
   "id": "71fcbc2c-13cd-411a-b033-19fe7a800a3b",
   "metadata": {
    "deletable": true,
    "editable": true,
    "execution": {
     "iopub.execute_input": "2025-10-17T16:30:50.729616Z",
     "iopub.status.busy": "2025-10-17T16:30:50.728825Z",
     "iopub.status.idle": "2025-10-17T16:30:50.739414Z",
     "shell.execute_reply": "2025-10-17T16:30:50.737455Z",
     "shell.execute_reply.started": "2025-10-17T16:30:50.729557Z"
    },
    "frozen": false
   },
   "outputs": [],
   "source": [
    "N, m = np.histogram(data['Gmag'], bins=70)\n",
    "m = (m[:-1] + m[1:])/2"
   ]
  },
  {
   "cell_type": "code",
   "execution_count": 28,
   "id": "23740107-ee74-4039-8bb4-f68b9b4eb0f4",
   "metadata": {
    "deletable": true,
    "editable": true,
    "execution": {
     "iopub.execute_input": "2025-10-17T16:30:51.403065Z",
     "iopub.status.busy": "2025-10-17T16:30:51.402309Z",
     "iopub.status.idle": "2025-10-17T16:30:51.547611Z",
     "shell.execute_reply": "2025-10-17T16:30:51.545981Z",
     "shell.execute_reply.started": "2025-10-17T16:30:51.402973Z"
    },
    "frozen": false
   },
   "outputs": [
    {
     "name": "stderr",
     "output_type": "stream",
     "text": [
      "/tmp/ipykernel_51082/315301681.py:1: RuntimeWarning: divide by zero encountered in log\n",
      "  plt.plot(m, np.log(N))\n"
     ]
    },
    {
     "data": {
      "text/plain": [
       "[<matplotlib.lines.Line2D at 0x7fa9ca87be00>]"
      ]
     },
     "execution_count": 28,
     "metadata": {},
     "output_type": "execute_result"
    }
   ],
   "source": [
    "plt.plot(m, np.log(N))"
   ]
  },
  {
   "cell_type": "code",
   "execution_count": null,
   "id": "ef0fffe0-7573-4d85-9d85-a99d656a39cb",
   "metadata": {
    "deletable": true,
    "editable": true,
    "frozen": false
   },
   "outputs": [],
   "source": []
  }
 ],
 "metadata": {
  "kernelspec": {
   "display_name": "Python 3 (ipykernel)",
   "language": "python",
   "name": "python3"
  },
  "language_info": {
   "codemirror_mode": {
    "name": "ipython",
    "version": 3
   },
   "file_extension": ".py",
   "mimetype": "text/x-python",
   "name": "python",
   "nbconvert_exporter": "python",
   "pygments_lexer": "ipython3",
   "version": "3.12.3"
  }
 },
 "nbformat": 4,
 "nbformat_minor": 5
}

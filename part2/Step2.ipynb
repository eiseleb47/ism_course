{
 "cells": [
  {
   "cell_type": "code",
   "execution_count": 17,
   "id": "b037b27a-0fea-44fb-b5ce-6089d5a32644",
   "metadata": {
    "deletable": true,
    "editable": true,
    "execution": {
     "iopub.execute_input": "2025-10-24T18:11:45.083509Z",
     "iopub.status.busy": "2025-10-24T18:11:45.083177Z",
     "iopub.status.idle": "2025-10-24T18:11:45.090988Z",
     "shell.execute_reply": "2025-10-24T18:11:45.089590Z",
     "shell.execute_reply.started": "2025-10-24T18:11:45.083483Z"
    },
    "frozen": false
   },
   "outputs": [],
   "source": [
    "# you can skip it, I just like interactive charts\n",
    "%matplotlib Qt"
   ]
  },
  {
   "cell_type": "code",
   "execution_count": 42,
   "id": "34b6ebb6-9059-4577-9247-304f82dc7b05",
   "metadata": {
    "deletable": true,
    "editable": true,
    "execution": {
     "iopub.execute_input": "2025-10-24T18:44:21.875492Z",
     "iopub.status.busy": "2025-10-24T18:44:21.874788Z",
     "iopub.status.idle": "2025-10-24T18:44:21.896492Z",
     "shell.execute_reply": "2025-10-24T18:44:21.893967Z",
     "shell.execute_reply.started": "2025-10-24T18:44:21.875438Z"
    },
    "frozen": false
   },
   "outputs": [],
   "source": [
    "import numpy as np\n",
    "from matplotlib import pyplot as plt\n",
    "from astropy.coordinates import SkyCoord\n",
    "import astropy.units as u\n",
    "from astropy.wcs import WCS\n",
    "from astropy.visualization.wcsaxes import SphericalCircle\n",
    "from astropy.io import fits\n",
    "import pandas as pd\n",
    "# nice progressbar\n",
    "from tqdm import tqdm"
   ]
  },
  {
   "cell_type": "code",
   "execution_count": 3,
   "id": "205a359b-dcde-42bd-ae2a-89701e1e9d74",
   "metadata": {
    "deletable": true,
    "editable": true,
    "execution": {
     "iopub.execute_input": "2025-10-24T17:25:58.603202Z",
     "iopub.status.busy": "2025-10-24T17:25:58.602716Z",
     "iopub.status.idle": "2025-10-24T17:25:59.038529Z",
     "shell.execute_reply": "2025-10-24T17:25:59.035329Z",
     "shell.execute_reply.started": "2025-10-24T17:25:58.603172Z"
    },
    "frozen": false
   },
   "outputs": [],
   "source": [
    "data = pd.read_csv(\"gaia.csv\")\n",
    "data = data.dropna(subset=['Gmag'])\n",
    "mask = (data['Gmag'] > 0) & (data['Gmag'] < 200)\n",
    "data = data[mask]\n",
    "coords = SkyCoord(ra=data[\"RA_ICRS\"], dec=data[\"DE_ICRS\"], frame='icrs', unit=u.degree)"
   ]
  },
  {
   "cell_type": "code",
   "execution_count": null,
   "id": "26cd2357-7aab-4757-86d2-91db86e71679",
   "metadata": {
    "deletable": true,
    "editable": true,
    "frozen": false
   },
   "outputs": [],
   "source": []
  },
  {
   "cell_type": "markdown",
   "id": "537f68cc-6b5a-4fe4-a880-5dff38997aea",
   "metadata": {
    "deletable": true,
    "editable": true,
    "frozen": false
   },
   "source": [
    "#### Grid"
   ]
  },
  {
   "cell_type": "markdown",
   "id": "2373ad2c-0b7b-46a9-aa8f-b64a87d0d66d",
   "metadata": {
    "deletable": true,
    "editable": true,
    "frozen": false
   },
   "source": [
    "I create a rectangular grid. The boundaries are minimal and maximal RA and DEC from the given catalogue."
   ]
  },
  {
   "cell_type": "code",
   "execution_count": 4,
   "id": "a37f272a-9f3d-472c-b9c5-24c54a412505",
   "metadata": {
    "deletable": true,
    "editable": true,
    "execution": {
     "iopub.execute_input": "2025-10-24T17:25:59.792133Z",
     "iopub.status.busy": "2025-10-24T17:25:59.791534Z",
     "iopub.status.idle": "2025-10-24T17:25:59.798188Z",
     "shell.execute_reply": "2025-10-24T17:25:59.796621Z",
     "shell.execute_reply.started": "2025-10-24T17:25:59.792082Z"
    },
    "frozen": false
   },
   "outputs": [],
   "source": [
    "# grid_step = 1 # in arcmin\n",
    "# ra_grid = np.arange(coords.ra.min().to(u.arcmin).value, coords.ra.max().to(u.arcmin).value, grid_step)\n",
    "# dec_grid = np.arange(coords.dec.min().to(u.arcmin).value, coords.dec.max().to(u.arcmin).value, grid_step)\n",
    "# ra_v, dec_v = np.meshgrid(ra_grid, dec_grid)\n",
    "# # now grid is a 2-d array, each element is SkyCoord (ra,dec)\n",
    "# grid = SkyCoord(ra_v, dec_v, unit=u.arcmin)"
   ]
  },
  {
   "cell_type": "code",
   "execution_count": 5,
   "id": "22416cb9-3a8e-4338-8f68-eac6109e6495",
   "metadata": {
    "deletable": true,
    "editable": true,
    "execution": {
     "iopub.execute_input": "2025-10-24T17:26:00.353445Z",
     "iopub.status.busy": "2025-10-24T17:26:00.352910Z",
     "iopub.status.idle": "2025-10-24T17:26:00.378818Z",
     "shell.execute_reply": "2025-10-24T17:26:00.376487Z",
     "shell.execute_reply.started": "2025-10-24T17:26:00.353402Z"
    },
    "frozen": false
   },
   "outputs": [],
   "source": [
    "def create_wcs(center: SkyCoord, cdelt=1*u.arcmin, size=1*u.deg):\n",
    "    pixsize = int((size.to(cdelt.unit)/cdelt).value)\n",
    "    \n",
    "    wcs = WCS(naxis=2)\n",
    "    wcs.wcs.cdelt = [-cdelt.value, cdelt.value]\n",
    "    wcs.wcs.cunit = [cdelt.unit, cdelt.unit]\n",
    "    wcs.wcs.ctype = [\"RA\", \"DEC\"]\n",
    "    wcs.wcs.crpix = [pixsize/2., pixsize/2.]\n",
    "    wcs.wcs.crval = [center.ra.to(cdelt.unit).value, center.dec.to(cdelt.unit).value]\n",
    "    wcs.pixel_shape = [pixsize, pixsize]\n",
    "    return(wcs)"
   ]
  },
  {
   "cell_type": "code",
   "execution_count": null,
   "id": "79638d1b-ef71-469d-b441-8f63e4b5b9db",
   "metadata": {
    "deletable": true,
    "editable": true,
    "frozen": false
   },
   "outputs": [],
   "source": []
  },
  {
   "cell_type": "code",
   "execution_count": 36,
   "id": "f14d7dbc-cb07-45f3-ba4b-5c5062c4cb1b",
   "metadata": {
    "deletable": true,
    "editable": true,
    "execution": {
     "iopub.execute_input": "2025-10-24T18:33:27.516998Z",
     "iopub.status.busy": "2025-10-24T18:33:27.516636Z",
     "iopub.status.idle": "2025-10-24T18:33:27.523917Z",
     "shell.execute_reply": "2025-10-24T18:33:27.523142Z",
     "shell.execute_reply.started": "2025-10-24T18:33:27.516971Z"
    },
    "frozen": false
   },
   "outputs": [],
   "source": [
    "center = SkyCoord('03:29:11.28 +31:18:36.00', unit=(u.hourangle, u.deg))\n",
    "# center = SkyCoord(ra_grid.mean(), dec_grid.mean(), unit=(u.arcsec, u.arcsec))\n",
    "cdelt = 1 * u.arcmin\n",
    "wcs = create_wcs(center, cdelt, size=2.5*u.deg)"
   ]
  },
  {
   "cell_type": "markdown",
   "id": "4bc8e7c3-3349-4196-bd99-74afe029a16b",
   "metadata": {
    "deletable": true,
    "editable": true,
    "frozen": false
   },
   "source": [
    "#### Sourse density map"
   ]
  },
  {
   "cell_type": "code",
   "execution_count": 40,
   "id": "2e733f36-a5b8-40a5-89d6-420f5a040745",
   "metadata": {
    "deletable": false,
    "editable": false,
    "execution": {
     "iopub.execute_input": "2025-10-24T18:34:22.622320Z",
     "iopub.status.busy": "2025-10-24T18:34:22.621931Z",
     "iopub.status.idle": "2025-10-24T18:35:30.923627Z",
     "shell.execute_reply": "2025-10-24T18:35:30.922917Z",
     "shell.execute_reply.started": "2025-10-24T18:34:22.622287Z"
    },
    "frozen": true
   },
   "outputs": [
    {
     "name": "stderr",
     "output_type": "stream",
     "text": [
      "100%|█████████████████████████████████████████| 150/150 [01:08<00:00,  2.20it/s]\n"
     ]
    }
   ],
   "source": [
    "density = np.zeros(wcs.pixel_shape, dtype=float)\n",
    "\n",
    "imax, jmax = wcs.pixel_shape\n",
    "\n",
    "# it takes about 40s on my computer with density_window=5\n",
    "density_window = 10*u.arcmin # diameter of region in which we calculate density\n",
    "for i in tqdm(range(imax)):\n",
    "    for j in range(jmax):\n",
    "        mask = wcs.pixel_to_world(j, i).separation(coords) < density_window\n",
    "        density[i,j] = len(mask[mask])"
   ]
  },
  {
   "cell_type": "code",
   "execution_count": 43,
   "id": "fb57e61a-e247-4fd5-b8b5-201fde8b68d2",
   "metadata": {
    "deletable": false,
    "editable": false,
    "execution": {
     "iopub.execute_input": "2025-10-24T18:46:05.315421Z",
     "iopub.status.busy": "2025-10-24T18:46:05.315031Z",
     "iopub.status.idle": "2025-10-24T18:46:05.344755Z",
     "shell.execute_reply": "2025-10-24T18:46:05.343171Z",
     "shell.execute_reply.started": "2025-10-24T18:46:05.315390Z"
    },
    "frozen": true
   },
   "outputs": [],
   "source": [
    "fits.PrimaryHDU(density, header=wcs.to_header()).writeto('GAIA_source_density.fits')"
   ]
  },
  {
   "cell_type": "code",
   "execution_count": 44,
   "id": "d33aea02-535a-4015-b17a-83deb4cfbe80",
   "metadata": {
    "execution": {
     "iopub.execute_input": "2025-10-24T18:52:07.947341Z",
     "iopub.status.busy": "2025-10-24T18:52:07.946916Z",
     "iopub.status.idle": "2025-10-24T18:52:07.968982Z",
     "shell.execute_reply": "2025-10-24T18:52:07.967956Z",
     "shell.execute_reply.started": "2025-10-24T18:52:07.947308Z"
    }
   },
   "outputs": [],
   "source": [
    "density = fits.getdata('GAIA_source_density.fits')\n",
    "wcs = WCS(fits.getheader('GAIA_source_density.fits'))"
   ]
  },
  {
   "cell_type": "code",
   "execution_count": 45,
   "id": "f13b5066-cc8c-42fe-acb3-7672c840978e",
   "metadata": {
    "deletable": true,
    "execution": {
     "iopub.execute_input": "2025-10-24T18:52:18.800906Z",
     "iopub.status.busy": "2025-10-24T18:52:18.800473Z",
     "iopub.status.idle": "2025-10-24T18:52:18.887545Z",
     "shell.execute_reply": "2025-10-24T18:52:18.885728Z",
     "shell.execute_reply.started": "2025-10-24T18:52:18.800871Z"
    },
    "frozen": false
   },
   "outputs": [
    {
     "data": {
      "text/plain": [
       "<matplotlib.collections.PathCollection at 0x7179be8e5730>"
      ]
     },
     "execution_count": 45,
     "metadata": {},
     "output_type": "execute_result"
    }
   ],
   "source": [
    "# need to inverse array so that it cossesponds to the aladin axis orientation\n",
    "fig1, ax1 = plt.subplots(subplot_kw=dict(projection=wcs))\n",
    "# ax.imshow(density[:,::-1], origin='lower')\n",
    "ax1.imshow(density, origin='lower')\n",
    "ax1.scatter(x, y, s=1, marker=',', color='red')"
   ]
  },
  {
   "cell_type": "code",
   "execution_count": null,
   "id": "05853edb-3b69-49e5-ada1-4dcae26c6be0",
   "metadata": {},
   "outputs": [],
   "source": []
  },
  {
   "cell_type": "code",
   "execution_count": 37,
   "id": "82e76974-10ab-409d-91e1-d38046fa57de",
   "metadata": {
    "deletable": true,
    "editable": true,
    "execution": {
     "iopub.execute_input": "2025-10-24T18:33:30.210478Z",
     "iopub.status.busy": "2025-10-24T18:33:30.210105Z",
     "iopub.status.idle": "2025-10-24T18:33:30.221750Z",
     "shell.execute_reply": "2025-10-24T18:33:30.220382Z",
     "shell.execute_reply.started": "2025-10-24T18:33:30.210450Z"
    },
    "frozen": false
   },
   "outputs": [],
   "source": [
    "x, y = wcs.world_to_pixel(coords)\n",
    "map_dens, _, _ = np.histogram2d(y, x, wcs.pixel_shape)"
   ]
  },
  {
   "cell_type": "code",
   "execution_count": 39,
   "id": "b8c5bee1-1ea6-4125-b4b1-210e19c1e656",
   "metadata": {
    "deletable": true,
    "editable": true,
    "execution": {
     "iopub.execute_input": "2025-10-24T18:33:34.207919Z",
     "iopub.status.busy": "2025-10-24T18:33:34.207516Z",
     "iopub.status.idle": "2025-10-24T18:33:34.297126Z",
     "shell.execute_reply": "2025-10-24T18:33:34.295184Z",
     "shell.execute_reply.started": "2025-10-24T18:33:34.207889Z"
    },
    "frozen": false
   },
   "outputs": [
    {
     "data": {
      "text/plain": [
       "<matplotlib.collections.PathCollection at 0x7179e99a1940>"
      ]
     },
     "execution_count": 39,
     "metadata": {},
     "output_type": "execute_result"
    }
   ],
   "source": [
    "# need to inverse array so that it cossesponds to the aladin axis orientation\n",
    "fig1, ax1 = plt.subplots(subplot_kw=dict(projection=wcs))\n",
    "# ax.imshow(density[:,::-1], origin='lower')\n",
    "ax1.imshow(map_dens, origin='lower')\n",
    "ax1.scatter(x, y, s=1, marker=',', color='red')"
   ]
  },
  {
   "cell_type": "code",
   "execution_count": 51,
   "id": "4293f8ba-23f1-40ac-81c8-42fada91bb10",
   "metadata": {
    "deletable": false,
    "editable": false,
    "execution": {
     "iopub.execute_input": "2025-10-24T08:50:17.920098Z",
     "iopub.status.busy": "2025-10-24T08:50:17.919758Z",
     "iopub.status.idle": "2025-10-24T08:50:18.015442Z",
     "shell.execute_reply": "2025-10-24T08:50:18.013715Z",
     "shell.execute_reply.started": "2025-10-24T08:50:17.920072Z"
    },
    "frozen": true
   },
   "outputs": [
    {
     "data": {
      "text/plain": [
       "[<matplotlib.lines.Line2D at 0x7cf369616330>]"
      ]
     },
     "execution_count": 51,
     "metadata": {},
     "output_type": "execute_result"
    }
   ],
   "source": [
    "density_dis = density.flatten()\n",
    "density_dis = density_dis[density_dis !=0]\n",
    "n, num = np.histogram(density_dis, bins=10)\n",
    "num = (num[:-1] + num[1:])/2\n",
    "plt.figure()\n",
    "plt.plot(num, n)"
   ]
  },
  {
   "cell_type": "markdown",
   "id": "ef6d419c-35c8-4275-a9fd-658b25ad66b6",
   "metadata": {
    "deletable": true,
    "editable": true,
    "frozen": false
   },
   "source": [
    "### Select region"
   ]
  },
  {
   "cell_type": "code",
   "execution_count": 10,
   "id": "8c3ebb8c-9f21-4748-851a-96863d5d1d1d",
   "metadata": {
    "deletable": true,
    "editable": true,
    "execution": {
     "iopub.execute_input": "2025-10-24T17:26:19.747185Z",
     "iopub.status.busy": "2025-10-24T17:26:19.746790Z",
     "iopub.status.idle": "2025-10-24T17:26:19.751901Z",
     "shell.execute_reply": "2025-10-24T17:26:19.751135Z",
     "shell.execute_reply.started": "2025-10-24T17:26:19.747154Z"
    },
    "frozen": false
   },
   "outputs": [],
   "source": [
    "def stars_from_region(data, coords, center, size):\n",
    "    mask = center.separation(coords) < size\n",
    "    return data[mask], coords[mask]"
   ]
  },
  {
   "cell_type": "code",
   "execution_count": 11,
   "id": "a57bc018-c130-406a-b484-0348622ca90e",
   "metadata": {
    "deletable": true,
    "editable": true,
    "execution": {
     "iopub.execute_input": "2025-10-24T17:26:20.182103Z",
     "iopub.status.busy": "2025-10-24T17:26:20.181293Z",
     "iopub.status.idle": "2025-10-24T17:26:20.196228Z",
     "shell.execute_reply": "2025-10-24T17:26:20.193184Z",
     "shell.execute_reply.started": "2025-10-24T17:26:20.182040Z"
    },
    "frozen": false
   },
   "outputs": [],
   "source": [
    "def hist_from_data(data, bins, min_mag=16, max_mag=20):\n",
    "    N, m = np.histogram(data['Gmag'], bins=bins)\n",
    "    m = (m[:-1] + m[1:])/2\n",
    "    N = np.log10(np.cumsum(N))\n",
    "    mask = (m > min_mag) & (m < max_mag)\n",
    "    mask2 = (data['Gmag'] > min_mag) & (data['Gmag'] < max_mag)\n",
    "    return N[mask], m[mask], len(mask2[mask2])"
   ]
  },
  {
   "cell_type": "markdown",
   "id": "fd08a9d0-8ab8-4bbd-8bc3-abae882ded70",
   "metadata": {
    "deletable": true,
    "editable": true,
    "frozen": false
   },
   "source": [
    "## Source histogram"
   ]
  },
  {
   "cell_type": "code",
   "execution_count": 12,
   "id": "101e957e-44c0-48bb-b50f-883f01a2596f",
   "metadata": {
    "deletable": true,
    "editable": true,
    "execution": {
     "iopub.execute_input": "2025-10-24T17:26:26.454260Z",
     "iopub.status.busy": "2025-10-24T17:26:26.453927Z",
     "iopub.status.idle": "2025-10-24T17:26:26.594339Z",
     "shell.execute_reply": "2025-10-24T17:26:26.592827Z",
     "shell.execute_reply.started": "2025-10-24T17:26:26.454234Z"
    },
    "frozen": false
   },
   "outputs": [],
   "source": [
    "fig1, ax1 = plt.subplots(subplot_kw=dict(projection=wcs))\n",
    "fig2, ax2 = plt.subplots()\n",
    "ax1.imshow(map_dens, origin='lower')\n",
    "# r = SphericalCircle((center.ra, center.dec), 1*u.deg,\n",
    "#                      edgecolor='green', facecolor='none',\n",
    "#                      transform=ax1.get_transform('fk5'))\n",
    "# ax1.add_patch(r)\n",
    "reg_size = 16*u.arcmin"
   ]
  },
  {
   "cell_type": "code",
   "execution_count": 13,
   "id": "ef0fffe0-7573-4d85-9d85-a99d656a39cb",
   "metadata": {
    "deletable": true,
    "editable": true,
    "execution": {
     "iopub.execute_input": "2025-10-24T17:26:27.006220Z",
     "iopub.status.busy": "2025-10-24T17:26:27.005316Z",
     "iopub.status.idle": "2025-10-24T17:26:27.198654Z",
     "shell.execute_reply": "2025-10-24T17:26:27.196328Z",
     "shell.execute_reply.started": "2025-10-24T17:26:27.006156Z"
    },
    "frozen": false
   },
   "outputs": [
    {
     "name": "stdout",
     "output_type": "stream",
     "text": [
      "1031\n",
      "0.23261054744944776\n",
      "867\n",
      "0.22310624320557615\n",
      "978\n",
      "0.23122991088917155\n",
      "923\n",
      "0.25851261910228907\n"
     ]
    }
   ],
   "source": [
    "regs = ['03:28:07.84 +31:59:21.2',\n",
    "        '03:26:24.14 +31:06:01.1',\n",
    "        '03:30:36.56 +31:11:56.6',\n",
    "        '03:31:27.32 +31:42:56.1']\n",
    "b = []\n",
    "n = []\n",
    "for r in regs:\n",
    "    reg_cen = SkyCoord(r, unit=(u.hourangle, u.deg))\n",
    "    reg_data, reg_coords = stars_from_region(data, coords, reg_cen, reg_size)\n",
    "    logN, m, tot = hist_from_data(reg_data, 20)\n",
    "    print(tot)\n",
    "    n.append(tot)\n",
    "    p = np.polynomial.Polynomial.fit(m, logN, 1)\n",
    "    print(p(1) - p(0))\n",
    "    b.append(p(1) - p(0))\n",
    "    ax2.plot(m, logN, 'k')\n",
    "    ax2.plot(m, p(m), 'b')\n",
    "    r = SphericalCircle((reg_cen.ra, reg_cen.dec), reg_size,\n",
    "                     edgecolor='yellow', facecolor='none',\n",
    "                     transform=ax1.get_transform('fk5'))\n",
    "    ax1.add_patch(r)\n",
    "b = np.average(b)\n",
    "n = np.average(n)"
   ]
  },
  {
   "cell_type": "code",
   "execution_count": 14,
   "id": "ea08beb0-e8c2-4c9b-886a-669fad9e485c",
   "metadata": {
    "deletable": true,
    "editable": true,
    "execution": {
     "iopub.execute_input": "2025-10-24T17:26:28.421755Z",
     "iopub.status.busy": "2025-10-24T17:26:28.421181Z",
     "iopub.status.idle": "2025-10-24T17:26:28.488380Z",
     "shell.execute_reply": "2025-10-24T17:26:28.486781Z",
     "shell.execute_reply.started": "2025-10-24T17:26:28.421698Z"
    },
    "frozen": false
   },
   "outputs": [
    {
     "name": "stdout",
     "output_type": "stream",
     "text": [
      "0.2071786547561607\n",
      "0.2071786547561607\n"
     ]
    }
   ],
   "source": [
    "regs = ['03:29:00 +31:27:0',\n",
    "        '03:29:00 +31:27:0']\n",
    "for r in regs:\n",
    "    reg_cen = SkyCoord(r, unit=(u.hourangle, u.deg))\n",
    "    reg_data, reg_coords = stars_from_region(data, coords, reg_cen, reg_size)\n",
    "    logN, m, tot = hist_from_data(reg_data, 20)\n",
    "    p = np.polynomial.Polynomial.fit(m, logN, 1)\n",
    "    print(p(1) - p(0))\n",
    "    ax2.plot(m, logN, 'r')\n",
    "    ax2.plot(m, p(m), 'b')\n",
    "    r = SphericalCircle((reg_cen.ra, reg_cen.dec), reg_size,\n",
    "                     edgecolor='red', facecolor='none',\n",
    "                     transform=ax1.get_transform('fk5'))\n",
    "    ax1.add_patch(r)"
   ]
  },
  {
   "cell_type": "code",
   "execution_count": 15,
   "id": "6b94c402-a53d-4a02-bcb8-14fd483d63a5",
   "metadata": {
    "deletable": true,
    "editable": true,
    "execution": {
     "iopub.execute_input": "2025-10-24T17:26:30.369280Z",
     "iopub.status.busy": "2025-10-24T17:26:30.368887Z",
     "iopub.status.idle": "2025-10-24T17:27:18.625898Z",
     "shell.execute_reply": "2025-10-24T17:27:18.624838Z",
     "shell.execute_reply.started": "2025-10-24T17:26:30.369252Z"
    },
    "frozen": false
   },
   "outputs": [
    {
     "name": "stderr",
     "output_type": "stream",
     "text": [
      "100%|█████████████████████████████████████████| 120/120 [00:48<00:00,  2.49it/s]\n"
     ]
    }
   ],
   "source": [
    "AG = np.zeros(wcs.pixel_shape, dtype=float)\n",
    "\n",
    "imax, jmax = wcs.pixel_shape\n",
    "\n",
    "for i in tqdm(range(imax)):\n",
    "    for j in range(jmax):\n",
    "        reg_cen = wcs.pixel_to_world(j, i)\n",
    "        if reg_cen.separation(center) > 50*u.arcmin:\n",
    "            AG[i,j] = np.nan\n",
    "            continue\n",
    "        reg_data, reg_coords = stars_from_region(data, coords, reg_cen, reg_size)\n",
    "        logN, m, tot = hist_from_data(reg_data, 20)\n",
    "        if tot > 0:\n",
    "            AG[i, j] = np.log10(n/tot)/b\n",
    "        else:\n",
    "            AG[i,j] = np.nan"
   ]
  },
  {
   "cell_type": "code",
   "execution_count": 16,
   "id": "606ba4a5-f463-4285-921e-6f9214684cea",
   "metadata": {
    "deletable": true,
    "editable": true,
    "execution": {
     "iopub.execute_input": "2025-10-24T17:27:26.054912Z",
     "iopub.status.busy": "2025-10-24T17:27:26.054582Z",
     "iopub.status.idle": "2025-10-24T17:27:26.133249Z",
     "shell.execute_reply": "2025-10-24T17:27:26.131593Z",
     "shell.execute_reply.started": "2025-10-24T17:27:26.054887Z"
    },
    "frozen": false
   },
   "outputs": [
    {
     "data": {
      "text/plain": [
       "<matplotlib.image.AxesImage at 0x7179e7e5fe60>"
      ]
     },
     "execution_count": 16,
     "metadata": {},
     "output_type": "execute_result"
    }
   ],
   "source": [
    "# need to inverse array so that it cossesponds to the aladin axis orientation\n",
    "fig1, ax1 = plt.subplots(subplot_kw=dict(projection=wcs))\n",
    "# ax.imshow(density[:,::-1], origin='lower')\n",
    "ax1.imshow(AG, origin='lower')"
   ]
  },
  {
   "cell_type": "code",
   "execution_count": null,
   "id": "066dab44-39fa-4267-a71a-0ecb86f14fcc",
   "metadata": {
    "deletable": true,
    "editable": true,
    "frozen": false
   },
   "outputs": [],
   "source": []
  }
 ],
 "metadata": {
  "kernelspec": {
   "display_name": "Python 3 (ipykernel)",
   "language": "python",
   "name": "python3"
  },
  "language_info": {
   "codemirror_mode": {
    "name": "ipython",
    "version": 3
   },
   "file_extension": ".py",
   "mimetype": "text/x-python",
   "name": "python",
   "nbconvert_exporter": "python",
   "pygments_lexer": "ipython3",
   "version": "3.12.3"
  }
 },
 "nbformat": 4,
 "nbformat_minor": 5
}

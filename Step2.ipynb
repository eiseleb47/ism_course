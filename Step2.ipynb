{
 "cells": [
  {
   "cell_type": "code",
   "execution_count": 1,
   "id": "b037b27a-0fea-44fb-b5ce-6089d5a32644",
   "metadata": {
    "deletable": true,
    "editable": true,
    "execution": {
     "iopub.execute_input": "2025-10-24T07:56:23.734104Z",
     "iopub.status.busy": "2025-10-24T07:56:23.733759Z",
     "iopub.status.idle": "2025-10-24T07:56:25.318570Z",
     "shell.execute_reply": "2025-10-24T07:56:25.317219Z",
     "shell.execute_reply.started": "2025-10-24T07:56:23.734073Z"
    },
    "frozen": false
   },
   "outputs": [],
   "source": [
    "# you can skip it, I just like interactive charts\n",
    "%matplotlib Qt"
   ]
  },
  {
   "cell_type": "code",
   "execution_count": 2,
   "id": "34b6ebb6-9059-4577-9247-304f82dc7b05",
   "metadata": {
    "deletable": true,
    "editable": true,
    "execution": {
     "iopub.execute_input": "2025-10-24T07:56:25.321030Z",
     "iopub.status.busy": "2025-10-24T07:56:25.320719Z",
     "iopub.status.idle": "2025-10-24T07:56:27.179823Z",
     "shell.execute_reply": "2025-10-24T07:56:27.176465Z",
     "shell.execute_reply.started": "2025-10-24T07:56:25.321006Z"
    },
    "frozen": false
   },
   "outputs": [],
   "source": [
    "import numpy as np\n",
    "from matplotlib import pyplot as plt\n",
    "from astropy.coordinates import SkyCoord\n",
    "import astropy.units as u\n",
    "from astropy.wcs import WCS\n",
    "import pandas as pd\n",
    "# nice progressbar\n",
    "from tqdm import tqdm"
   ]
  },
  {
   "cell_type": "code",
   "execution_count": 11,
   "id": "205a359b-dcde-42bd-ae2a-89701e1e9d74",
   "metadata": {
    "deletable": true,
    "editable": true,
    "execution": {
     "iopub.execute_input": "2025-10-24T08:00:36.249079Z",
     "iopub.status.busy": "2025-10-24T08:00:36.248723Z",
     "iopub.status.idle": "2025-10-24T08:00:36.484459Z",
     "shell.execute_reply": "2025-10-24T08:00:36.483453Z",
     "shell.execute_reply.started": "2025-10-24T08:00:36.249051Z"
    },
    "frozen": false
   },
   "outputs": [],
   "source": [
    "data = pd.read_csv(\"gaia.csv\")\n",
    "data = data.dropna(subset=['Gmag'])\n",
    "mask = (data['Gmag'] > 13) & (data['Gmag'] < 20)\n",
    "data = data[mask]\n",
    "coords = SkyCoord(ra=data[\"RA_ICRS\"], dec=data[\"DE_ICRS\"], frame='icrs', unit=u.degree)"
   ]
  },
  {
   "cell_type": "markdown",
   "id": "537f68cc-6b5a-4fe4-a880-5dff38997aea",
   "metadata": {
    "deletable": true,
    "editable": true,
    "frozen": false
   },
   "source": [
    "#### Grid"
   ]
  },
  {
   "cell_type": "markdown",
   "id": "2373ad2c-0b7b-46a9-aa8f-b64a87d0d66d",
   "metadata": {
    "deletable": true,
    "editable": true,
    "frozen": false
   },
   "source": [
    "I create a rectangular grid. The boundaries are minimal and maximal RA and DEC from the given catalogue."
   ]
  },
  {
   "cell_type": "code",
   "execution_count": 12,
   "id": "a37f272a-9f3d-472c-b9c5-24c54a412505",
   "metadata": {
    "deletable": true,
    "editable": true,
    "execution": {
     "iopub.execute_input": "2025-10-24T08:00:39.481368Z",
     "iopub.status.busy": "2025-10-24T08:00:39.480995Z",
     "iopub.status.idle": "2025-10-24T08:00:39.491417Z",
     "shell.execute_reply": "2025-10-24T08:00:39.490017Z",
     "shell.execute_reply.started": "2025-10-24T08:00:39.481337Z"
    },
    "frozen": false
   },
   "outputs": [],
   "source": [
    "grid_step = 1 # in arcmin\n",
    "ra_grid = np.arange(coords.ra.min().to(u.arcmin).value, coords.ra.max().to(u.arcmin).value, grid_step)\n",
    "dec_grid = np.arange(coords.dec.min().to(u.arcmin).value, coords.dec.max().to(u.arcmin).value, grid_step)\n",
    "ra_v, dec_v = np.meshgrid(ra_grid, dec_grid)\n",
    "# now grid is a 2-d array, each element is SkyCoord (ra,dec)\n",
    "grid = SkyCoord(ra_v, dec_v, unit=u.arcmin)"
   ]
  },
  {
   "cell_type": "code",
   "execution_count": 13,
   "id": "22416cb9-3a8e-4338-8f68-eac6109e6495",
   "metadata": {
    "deletable": true,
    "editable": true,
    "execution": {
     "iopub.execute_input": "2025-10-24T08:00:39.765298Z",
     "iopub.status.busy": "2025-10-24T08:00:39.764544Z",
     "iopub.status.idle": "2025-10-24T08:00:39.782216Z",
     "shell.execute_reply": "2025-10-24T08:00:39.779291Z",
     "shell.execute_reply.started": "2025-10-24T08:00:39.765237Z"
    },
    "frozen": false
   },
   "outputs": [],
   "source": [
    "def create_wcs(center: SkyCoord, cdelt=1*u.arcmin, size=1*u.deg):\n",
    "    pixsize = int((size.to(cdelt.unit)/cdelt).value)\n",
    "    \n",
    "    wcs = WCS(naxis=2)\n",
    "    wcs.wcs.cdelt = [cdelt.value, cdelt.value]\n",
    "    wcs.wcs.cunit = [cdelt.unit, cdelt.unit]\n",
    "    wcs.wcs.ctype = [\"RA\", \"DEC\"]\n",
    "    wcs.wcs.crpix = [pixsize/2., pixsize/2.]\n",
    "    wcs.wcs.crval = [center.ra.to(cdelt.unit).value, center.dec.to(cdelt.unit).value]\n",
    "    wcs.pixel_shape = [pixsize, pixsize]\n",
    "    return(wcs)\n",
    "# self.slit_wcs.wcs.latpole = 0.\n",
    "# self.slit_wcs.wcs.lonpole = 180.\n",
    "# self.slit_wcs.wcs.equinox = 2000.0\n",
    "\n",
    "# w_header = self.slit_wcs.to_header()\n",
    "# w_header['NAXIS'] = 2\n",
    "# w_header['NAXIS1'], w_header['NAXIS2'] = self.slit_wcs.pixel_shape"
   ]
  },
  {
   "cell_type": "code",
   "execution_count": 26,
   "id": "79638d1b-ef71-469d-b441-8f63e4b5b9db",
   "metadata": {
    "execution": {
     "iopub.execute_input": "2025-10-24T08:11:39.060550Z",
     "iopub.status.busy": "2025-10-24T08:11:39.060179Z",
     "iopub.status.idle": "2025-10-24T08:11:39.067737Z",
     "shell.execute_reply": "2025-10-24T08:11:39.066671Z",
     "shell.execute_reply.started": "2025-10-24T08:11:39.060510Z"
    }
   },
   "outputs": [
    {
     "data": {
      "text/plain": [
       "np.float64(3140.2595965066)"
      ]
     },
     "execution_count": 26,
     "metadata": {},
     "output_type": "execute_result"
    }
   ],
   "source": [
    "ra_grid.mean()"
   ]
  },
  {
   "cell_type": "code",
   "execution_count": 27,
   "id": "f14d7dbc-cb07-45f3-ba4b-5c5062c4cb1b",
   "metadata": {
    "execution": {
     "iopub.execute_input": "2025-10-24T08:14:53.040174Z",
     "iopub.status.busy": "2025-10-24T08:14:53.039746Z",
     "iopub.status.idle": "2025-10-24T08:14:53.053265Z",
     "shell.execute_reply": "2025-10-24T08:14:53.051409Z",
     "shell.execute_reply.started": "2025-10-24T08:14:53.040136Z"
    }
   },
   "outputs": [],
   "source": [
    "center = SkyCoord('03:29:11.28', '+31:18:36.00', unit=(u.hourangle, u.deg))\n",
    "center = SkyCoord(ra_grid.mean(), dec_grid.mean(), unit=(u.arcsec, u.arcsec))\n",
    "cdelt = 1 * u.arcmin\n",
    "wcs = create_wcs(center, cdelt)"
   ]
  },
  {
   "cell_type": "code",
   "execution_count": null,
   "id": "bef49aed-6c84-4fad-ba22-9b04bd45ffaf",
   "metadata": {},
   "outputs": [],
   "source": []
  },
  {
   "cell_type": "markdown",
   "id": "4bc8e7c3-3349-4196-bd99-74afe029a16b",
   "metadata": {
    "deletable": true,
    "editable": true,
    "frozen": false
   },
   "source": [
    "#### Sourse density map"
   ]
  },
  {
   "cell_type": "code",
   "execution_count": 15,
   "id": "2e733f36-a5b8-40a5-89d6-420f5a040745",
   "metadata": {
    "deletable": true,
    "editable": true,
    "execution": {
     "iopub.execute_input": "2025-10-24T08:00:41.651637Z",
     "iopub.status.busy": "2025-10-24T08:00:41.651234Z",
     "iopub.status.idle": "2025-10-24T08:01:10.701006Z",
     "shell.execute_reply": "2025-10-24T08:01:10.700093Z",
     "shell.execute_reply.started": "2025-10-24T08:00:41.651606Z"
    },
    "frozen": false
   },
   "outputs": [
    {
     "name": "stderr",
     "output_type": "stream",
     "text": [
      "100%|█████████████████████████████████████████| 120/120 [00:27<00:00,  4.41it/s]\n"
     ]
    }
   ],
   "source": [
    "density = np.zeros_like(grid, dtype=float)\n",
    "\n",
    "imax, jmax = grid.shape\n",
    "\n",
    "# it takes about 40s on my computer with density_window=5\n",
    "density_window = 10*u.arcmin # diameter of region in which we calculate density\n",
    "for i in tqdm(range(imax)):\n",
    "    for j in range(jmax):\n",
    "        mask = grid[i,j].separation(coords) < density_window\n",
    "        density[i,j] = len(mask[mask])"
   ]
  },
  {
   "cell_type": "code",
   "execution_count": 28,
   "id": "f13b5066-cc8c-42fe-acb3-7672c840978e",
   "metadata": {
    "deletable": true,
    "editable": true,
    "execution": {
     "iopub.execute_input": "2025-10-24T08:15:01.539899Z",
     "iopub.status.busy": "2025-10-24T08:15:01.539579Z",
     "iopub.status.idle": "2025-10-24T08:15:01.625145Z",
     "shell.execute_reply": "2025-10-24T08:15:01.622132Z",
     "shell.execute_reply.started": "2025-10-24T08:15:01.539874Z"
    },
    "frozen": false
   },
   "outputs": [
    {
     "data": {
      "text/plain": [
       "<matplotlib.image.AxesImage at 0x7cf3625e3380>"
      ]
     },
     "execution_count": 28,
     "metadata": {},
     "output_type": "execute_result"
    }
   ],
   "source": [
    "# need to inverse array so that it cossesponds to the aladin axis orientation\n",
    "fig, ax = plt.subplots(subplot_kw=dict(projection=wcs))\n",
    "# ax.imshow(density[:,::-1], origin='lower')\n",
    "ax.imshow(density, origin='lower')"
   ]
  },
  {
   "cell_type": "code",
   "execution_count": 17,
   "id": "4293f8ba-23f1-40ac-81c8-42fada91bb10",
   "metadata": {
    "execution": {
     "iopub.execute_input": "2025-10-24T08:01:10.909178Z",
     "iopub.status.busy": "2025-10-24T08:01:10.908223Z",
     "iopub.status.idle": "2025-10-24T08:01:11.028636Z",
     "shell.execute_reply": "2025-10-24T08:01:11.026633Z",
     "shell.execute_reply.started": "2025-10-24T08:01:10.909109Z"
    }
   },
   "outputs": [
    {
     "data": {
      "text/plain": [
       "[<matplotlib.lines.Line2D at 0x7cf36ac65880>]"
      ]
     },
     "execution_count": 17,
     "metadata": {},
     "output_type": "execute_result"
    }
   ],
   "source": [
    "density_dis = density.flatten()\n",
    "density_dis = density_dis[density_dis !=0]\n",
    "n, num = np.histogram(density_dis, bins=10)\n",
    "num = (num[:-1] + num[1:])/2\n",
    "plt.figure()\n",
    "plt.plot(num, n)"
   ]
  },
  {
   "cell_type": "markdown",
   "id": "ef6d419c-35c8-4275-a9fd-658b25ad66b6",
   "metadata": {},
   "source": [
    "### Select region"
   ]
  },
  {
   "cell_type": "code",
   "execution_count": 23,
   "id": "8c3ebb8c-9f21-4748-851a-96863d5d1d1d",
   "metadata": {
    "execution": {
     "iopub.execute_input": "2025-10-24T08:04:18.072134Z",
     "iopub.status.busy": "2025-10-24T08:04:18.071704Z",
     "iopub.status.idle": "2025-10-24T08:04:18.078563Z",
     "shell.execute_reply": "2025-10-24T08:04:18.076994Z",
     "shell.execute_reply.started": "2025-10-24T08:04:18.072100Z"
    }
   },
   "outputs": [],
   "source": [
    "def stars_from_region(data, coords, center, size):\n",
    "    mask = center.separation(coords) < size\n",
    "    return data[mask], coords[mask]"
   ]
  },
  {
   "cell_type": "code",
   "execution_count": null,
   "id": "bc8f5536-923b-44e9-a92d-bb00921b7d7f",
   "metadata": {},
   "outputs": [],
   "source": []
  },
  {
   "cell_type": "markdown",
   "id": "fd08a9d0-8ab8-4bbd-8bc3-abae882ded70",
   "metadata": {
    "deletable": true,
    "editable": true,
    "frozen": false
   },
   "source": [
    "## Source histogram"
   ]
  },
  {
   "cell_type": "code",
   "execution_count": 22,
   "id": "71fcbc2c-13cd-411a-b033-19fe7a800a3b",
   "metadata": {
    "deletable": true,
    "editable": true,
    "execution": {
     "iopub.execute_input": "2025-10-24T08:01:41.658133Z",
     "iopub.status.busy": "2025-10-24T08:01:41.657709Z",
     "iopub.status.idle": "2025-10-24T08:01:41.666112Z",
     "shell.execute_reply": "2025-10-24T08:01:41.665101Z",
     "shell.execute_reply.started": "2025-10-24T08:01:41.658098Z"
    },
    "frozen": false
   },
   "outputs": [
    {
     "name": "stdout",
     "output_type": "stream",
     "text": [
      "[ 19  13  18  23  22  24  28  35  38  37  49  56  47  65  62  77  85  86\n",
      "  87 106 112 122 157 172 144 185 174 200 234 244 229 278 285 309 337 364\n",
      " 374 435 423 446 471 489 546 538 619 595 668 663 692 727]\n"
     ]
    }
   ],
   "source": [
    "N, m = np.histogram(data['Gmag'], bins=50)\n",
    "# N = np.cumsum(N)\n",
    "m = (m[:-1] + m[1:])/2\n",
    "# p = np.polynomial.Polynomial.fit(m, np.log(N), 2)\n",
    "# # err = np.sqrt(np.diag(cov))\n",
    "# p(m)\n",
    "print(N)"
   ]
  },
  {
   "cell_type": "code",
   "execution_count": 21,
   "id": "23740107-ee74-4039-8bb4-f68b9b4eb0f4",
   "metadata": {
    "deletable": true,
    "editable": true,
    "execution": {
     "iopub.execute_input": "2025-10-24T08:01:28.620925Z",
     "iopub.status.busy": "2025-10-24T08:01:28.620521Z",
     "iopub.status.idle": "2025-10-24T08:01:28.697845Z",
     "shell.execute_reply": "2025-10-24T08:01:28.696190Z",
     "shell.execute_reply.started": "2025-10-24T08:01:28.620893Z"
    },
    "frozen": false
   },
   "outputs": [
    {
     "data": {
      "text/plain": [
       "[<matplotlib.lines.Line2D at 0x7cf369d39280>]"
      ]
     },
     "execution_count": 21,
     "metadata": {},
     "output_type": "execute_result"
    }
   ],
   "source": [
    "plt.plot(m, np.log(N))\n",
    "# plt.plot(m, p(m))"
   ]
  },
  {
   "cell_type": "code",
   "execution_count": 28,
   "id": "ef0fffe0-7573-4d85-9d85-a99d656a39cb",
   "metadata": {
    "deletable": true,
    "editable": true,
    "execution": {
     "iopub.execute_input": "2025-10-23T16:35:48.786800Z",
     "iopub.status.busy": "2025-10-23T16:35:48.786388Z",
     "iopub.status.idle": "2025-10-23T16:35:48.843674Z",
     "shell.execute_reply": "2025-10-23T16:35:48.842269Z",
     "shell.execute_reply.started": "2025-10-23T16:35:48.786766Z"
    },
    "frozen": false
   },
   "outputs": [
    {
     "data": {
      "text/html": [
       "<div>\n",
       "<style scoped>\n",
       "    .dataframe tbody tr th:only-of-type {\n",
       "        vertical-align: middle;\n",
       "    }\n",
       "\n",
       "    .dataframe tbody tr th {\n",
       "        vertical-align: top;\n",
       "    }\n",
       "\n",
       "    .dataframe thead th {\n",
       "        text-align: right;\n",
       "    }\n",
       "</style>\n",
       "<table border=\"1\" class=\"dataframe\">\n",
       "  <thead>\n",
       "    <tr style=\"text-align: right;\">\n",
       "      <th></th>\n",
       "      <th>_RAJ2000</th>\n",
       "      <th>_DEJ2000</th>\n",
       "      <th>_V</th>\n",
       "      <th>RA_ICRS</th>\n",
       "      <th>DE_ICRS</th>\n",
       "      <th>Source</th>\n",
       "      <th>e_RA_ICRS</th>\n",
       "      <th>e_DE_ICRS</th>\n",
       "      <th>Plx</th>\n",
       "      <th>e_Plx</th>\n",
       "      <th>...</th>\n",
       "      <th>TYC2</th>\n",
       "      <th>URAT1</th>\n",
       "      <th>AllWISE</th>\n",
       "      <th>APASS9</th>\n",
       "      <th>GSC23</th>\n",
       "      <th>RAVE5</th>\n",
       "      <th>2MASS</th>\n",
       "      <th>RAVE6</th>\n",
       "      <th>RAJ2000</th>\n",
       "      <th>DEJ2000</th>\n",
       "    </tr>\n",
       "  </thead>\n",
       "  <tbody>\n",
       "    <tr>\n",
       "      <th>1</th>\n",
       "      <td>52.431856</td>\n",
       "      <td>30.288244</td>\n",
       "      <td>VizieR</td>\n",
       "      <td>52.431868</td>\n",
       "      <td>30.288222</td>\n",
       "      <td>120716446766073088</td>\n",
       "      <td>0.5059</td>\n",
       "      <td>0.3604</td>\n",
       "      <td>0.7471</td>\n",
       "      <td>0.5421</td>\n",
       "      <td>...</td>\n",
       "      <td></td>\n",
       "      <td></td>\n",
       "      <td>J032943.63+301717.4</td>\n",
       "      <td>NaN</td>\n",
       "      <td>NCHD013028</td>\n",
       "      <td></td>\n",
       "      <td>03294362+3017174</td>\n",
       "      <td></td>\n",
       "      <td>52.431856</td>\n",
       "      <td>30.288244</td>\n",
       "    </tr>\n",
       "    <tr>\n",
       "      <th>2</th>\n",
       "      <td>52.356935</td>\n",
       "      <td>30.273780</td>\n",
       "      <td>VizieR</td>\n",
       "      <td>52.356951</td>\n",
       "      <td>30.273756</td>\n",
       "      <td>120716725939608960</td>\n",
       "      <td>0.0913</td>\n",
       "      <td>0.0721</td>\n",
       "      <td>0.5651</td>\n",
       "      <td>0.1016</td>\n",
       "      <td>...</td>\n",
       "      <td></td>\n",
       "      <td>URAT1-602031070</td>\n",
       "      <td>J032925.66+301625.5</td>\n",
       "      <td>NaN</td>\n",
       "      <td>NCHD005917</td>\n",
       "      <td></td>\n",
       "      <td>03292565+3016257</td>\n",
       "      <td></td>\n",
       "      <td>52.356935</td>\n",
       "      <td>30.273780</td>\n",
       "    </tr>\n",
       "    <tr>\n",
       "      <th>3</th>\n",
       "      <td>52.325371</td>\n",
       "      <td>30.269596</td>\n",
       "      <td>VizieR</td>\n",
       "      <td>52.325350</td>\n",
       "      <td>30.269598</td>\n",
       "      <td>120716859082650240</td>\n",
       "      <td>0.0724</td>\n",
       "      <td>0.0556</td>\n",
       "      <td>1.6789</td>\n",
       "      <td>0.0800</td>\n",
       "      <td>...</td>\n",
       "      <td></td>\n",
       "      <td>URAT1-602031056</td>\n",
       "      <td>J032918.08+301610.5</td>\n",
       "      <td>NaN</td>\n",
       "      <td>NCHD005888</td>\n",
       "      <td></td>\n",
       "      <td>03291808+3016107</td>\n",
       "      <td></td>\n",
       "      <td>52.325371</td>\n",
       "      <td>30.269596</td>\n",
       "    </tr>\n",
       "    <tr>\n",
       "      <th>4</th>\n",
       "      <td>52.311259</td>\n",
       "      <td>30.270132</td>\n",
       "      <td>VizieR</td>\n",
       "      <td>52.311272</td>\n",
       "      <td>30.270091</td>\n",
       "      <td>120716859082650368</td>\n",
       "      <td>0.2769</td>\n",
       "      <td>0.2090</td>\n",
       "      <td>0.8580</td>\n",
       "      <td>0.3174</td>\n",
       "      <td>...</td>\n",
       "      <td></td>\n",
       "      <td>URAT1-602031050</td>\n",
       "      <td>J032914.70+301612.3</td>\n",
       "      <td>NaN</td>\n",
       "      <td>NCHD005890</td>\n",
       "      <td></td>\n",
       "      <td>03291469+3016127</td>\n",
       "      <td></td>\n",
       "      <td>52.311259</td>\n",
       "      <td>30.270132</td>\n",
       "    </tr>\n",
       "    <tr>\n",
       "      <th>5</th>\n",
       "      <td>52.344732</td>\n",
       "      <td>30.275825</td>\n",
       "      <td>VizieR</td>\n",
       "      <td>52.344734</td>\n",
       "      <td>30.275814</td>\n",
       "      <td>120716927802129536</td>\n",
       "      <td>0.1994</td>\n",
       "      <td>0.1512</td>\n",
       "      <td>0.5243</td>\n",
       "      <td>0.2293</td>\n",
       "      <td>...</td>\n",
       "      <td></td>\n",
       "      <td>URAT1-602031065</td>\n",
       "      <td>J032922.74+301632.9</td>\n",
       "      <td>NaN</td>\n",
       "      <td>NCHD005930</td>\n",
       "      <td></td>\n",
       "      <td>03292272+3016331</td>\n",
       "      <td></td>\n",
       "      <td>52.344732</td>\n",
       "      <td>30.275825</td>\n",
       "    </tr>\n",
       "    <tr>\n",
       "      <th>...</th>\n",
       "      <td>...</td>\n",
       "      <td>...</td>\n",
       "      <td>...</td>\n",
       "      <td>...</td>\n",
       "      <td>...</td>\n",
       "      <td>...</td>\n",
       "      <td>...</td>\n",
       "      <td>...</td>\n",
       "      <td>...</td>\n",
       "      <td>...</td>\n",
       "      <td>...</td>\n",
       "      <td>...</td>\n",
       "      <td>...</td>\n",
       "      <td>...</td>\n",
       "      <td>...</td>\n",
       "      <td>...</td>\n",
       "      <td>...</td>\n",
       "      <td>...</td>\n",
       "      <td>...</td>\n",
       "      <td>...</td>\n",
       "      <td>...</td>\n",
       "    </tr>\n",
       "    <tr>\n",
       "      <th>19421</th>\n",
       "      <td>52.677368</td>\n",
       "      <td>32.217265</td>\n",
       "      <td>VizieR</td>\n",
       "      <td>52.677363</td>\n",
       "      <td>32.217229</td>\n",
       "      <td>124557247040836224</td>\n",
       "      <td>0.3284</td>\n",
       "      <td>0.2296</td>\n",
       "      <td>-0.7043</td>\n",
       "      <td>0.3862</td>\n",
       "      <td>...</td>\n",
       "      <td></td>\n",
       "      <td>URAT1-612035343</td>\n",
       "      <td>J033042.56+321302.0</td>\n",
       "      <td>NaN</td>\n",
       "      <td>NCHF000768</td>\n",
       "      <td></td>\n",
       "      <td>03304257+3213021</td>\n",
       "      <td></td>\n",
       "      <td>52.677368</td>\n",
       "      <td>32.217265</td>\n",
       "    </tr>\n",
       "    <tr>\n",
       "      <th>19422</th>\n",
       "      <td>52.656175</td>\n",
       "      <td>32.216136</td>\n",
       "      <td>VizieR</td>\n",
       "      <td>52.656186</td>\n",
       "      <td>32.216130</td>\n",
       "      <td>124557285695142272</td>\n",
       "      <td>0.2580</td>\n",
       "      <td>0.1719</td>\n",
       "      <td>0.3415</td>\n",
       "      <td>0.2901</td>\n",
       "      <td>...</td>\n",
       "      <td></td>\n",
       "      <td>URAT1-612035334</td>\n",
       "      <td></td>\n",
       "      <td>NaN</td>\n",
       "      <td>NCHF000766</td>\n",
       "      <td></td>\n",
       "      <td>03303752+3212581</td>\n",
       "      <td></td>\n",
       "      <td>52.656175</td>\n",
       "      <td>32.216136</td>\n",
       "    </tr>\n",
       "    <tr>\n",
       "      <th>19423</th>\n",
       "      <td>52.663613</td>\n",
       "      <td>32.223805</td>\n",
       "      <td>VizieR</td>\n",
       "      <td>52.663628</td>\n",
       "      <td>32.223808</td>\n",
       "      <td>124557285695955584</td>\n",
       "      <td>0.0731</td>\n",
       "      <td>0.0500</td>\n",
       "      <td>0.6868</td>\n",
       "      <td>0.0804</td>\n",
       "      <td>...</td>\n",
       "      <td></td>\n",
       "      <td>URAT1-612035339</td>\n",
       "      <td>J033039.26+321325.7</td>\n",
       "      <td>NaN</td>\n",
       "      <td>NCHF000781</td>\n",
       "      <td></td>\n",
       "      <td>03303927+3213256</td>\n",
       "      <td></td>\n",
       "      <td>52.663613</td>\n",
       "      <td>32.223805</td>\n",
       "    </tr>\n",
       "    <tr>\n",
       "      <th>19426</th>\n",
       "      <td>52.624198</td>\n",
       "      <td>32.227103</td>\n",
       "      <td>VizieR</td>\n",
       "      <td>52.624197</td>\n",
       "      <td>32.227080</td>\n",
       "      <td>124557453199268224</td>\n",
       "      <td>0.5107</td>\n",
       "      <td>0.3575</td>\n",
       "      <td>0.5840</td>\n",
       "      <td>0.5817</td>\n",
       "      <td>...</td>\n",
       "      <td></td>\n",
       "      <td></td>\n",
       "      <td>J033029.80+321337.5</td>\n",
       "      <td>NaN</td>\n",
       "      <td>NCHF000787</td>\n",
       "      <td></td>\n",
       "      <td></td>\n",
       "      <td></td>\n",
       "      <td>52.624198</td>\n",
       "      <td>32.227103</td>\n",
       "    </tr>\n",
       "    <tr>\n",
       "      <th>19431</th>\n",
       "      <td>52.585817</td>\n",
       "      <td>32.241598</td>\n",
       "      <td>VizieR</td>\n",
       "      <td>52.586078</td>\n",
       "      <td>32.241503</td>\n",
       "      <td>124558247768615808</td>\n",
       "      <td>0.3729</td>\n",
       "      <td>0.3318</td>\n",
       "      <td>4.0373</td>\n",
       "      <td>0.4406</td>\n",
       "      <td>...</td>\n",
       "      <td></td>\n",
       "      <td>URAT1-612035291</td>\n",
       "      <td>J033020.63+321429.4</td>\n",
       "      <td>NaN</td>\n",
       "      <td>NCHF000809</td>\n",
       "      <td></td>\n",
       "      <td>03302058+3214296</td>\n",
       "      <td></td>\n",
       "      <td>52.585817</td>\n",
       "      <td>32.241598</td>\n",
       "    </tr>\n",
       "  </tbody>\n",
       "</table>\n",
       "<p>12209 rows × 60 columns</p>\n",
       "</div>"
      ],
      "text/plain": [
       "        _RAJ2000   _DEJ2000      _V    RA_ICRS    DE_ICRS              Source  \\\n",
       "1      52.431856  30.288244  VizieR  52.431868  30.288222  120716446766073088   \n",
       "2      52.356935  30.273780  VizieR  52.356951  30.273756  120716725939608960   \n",
       "3      52.325371  30.269596  VizieR  52.325350  30.269598  120716859082650240   \n",
       "4      52.311259  30.270132  VizieR  52.311272  30.270091  120716859082650368   \n",
       "5      52.344732  30.275825  VizieR  52.344734  30.275814  120716927802129536   \n",
       "...          ...        ...     ...        ...        ...                 ...   \n",
       "19421  52.677368  32.217265  VizieR  52.677363  32.217229  124557247040836224   \n",
       "19422  52.656175  32.216136  VizieR  52.656186  32.216130  124557285695142272   \n",
       "19423  52.663613  32.223805  VizieR  52.663628  32.223808  124557285695955584   \n",
       "19426  52.624198  32.227103  VizieR  52.624197  32.227080  124557453199268224   \n",
       "19431  52.585817  32.241598  VizieR  52.586078  32.241503  124558247768615808   \n",
       "\n",
       "       e_RA_ICRS  e_DE_ICRS     Plx   e_Plx  ...  TYC2            URAT1  \\\n",
       "1         0.5059     0.3604  0.7471  0.5421  ...                          \n",
       "2         0.0913     0.0721  0.5651  0.1016  ...        URAT1-602031070   \n",
       "3         0.0724     0.0556  1.6789  0.0800  ...        URAT1-602031056   \n",
       "4         0.2769     0.2090  0.8580  0.3174  ...        URAT1-602031050   \n",
       "5         0.1994     0.1512  0.5243  0.2293  ...        URAT1-602031065   \n",
       "...          ...        ...     ...     ...  ...   ...              ...   \n",
       "19421     0.3284     0.2296 -0.7043  0.3862  ...        URAT1-612035343   \n",
       "19422     0.2580     0.1719  0.3415  0.2901  ...        URAT1-612035334   \n",
       "19423     0.0731     0.0500  0.6868  0.0804  ...        URAT1-612035339   \n",
       "19426     0.5107     0.3575  0.5840  0.5817  ...                          \n",
       "19431     0.3729     0.3318  4.0373  0.4406  ...        URAT1-612035291   \n",
       "\n",
       "                   AllWISE  APASS9       GSC23  RAVE5             2MASS  \\\n",
       "1      J032943.63+301717.4     NaN  NCHD013028         03294362+3017174   \n",
       "2      J032925.66+301625.5     NaN  NCHD005917         03292565+3016257   \n",
       "3      J032918.08+301610.5     NaN  NCHD005888         03291808+3016107   \n",
       "4      J032914.70+301612.3     NaN  NCHD005890         03291469+3016127   \n",
       "5      J032922.74+301632.9     NaN  NCHD005930         03292272+3016331   \n",
       "...                    ...     ...         ...    ...               ...   \n",
       "19421  J033042.56+321302.0     NaN  NCHF000768         03304257+3213021   \n",
       "19422                          NaN  NCHF000766         03303752+3212581   \n",
       "19423  J033039.26+321325.7     NaN  NCHF000781         03303927+3213256   \n",
       "19426  J033029.80+321337.5     NaN  NCHF000787                            \n",
       "19431  J033020.63+321429.4     NaN  NCHF000809         03302058+3214296   \n",
       "\n",
       "       RAVE6    RAJ2000    DEJ2000  \n",
       "1             52.431856  30.288244  \n",
       "2             52.356935  30.273780  \n",
       "3             52.325371  30.269596  \n",
       "4             52.311259  30.270132  \n",
       "5             52.344732  30.275825  \n",
       "...      ...        ...        ...  \n",
       "19421         52.677368  32.217265  \n",
       "19422         52.656175  32.216136  \n",
       "19423         52.663613  32.223805  \n",
       "19426         52.624198  32.227103  \n",
       "19431         52.585817  32.241598  \n",
       "\n",
       "[12209 rows x 60 columns]"
      ]
     },
     "execution_count": 28,
     "metadata": {},
     "output_type": "execute_result"
    }
   ],
   "source": []
  },
  {
   "cell_type": "code",
   "execution_count": null,
   "id": "6b94c402-a53d-4a02-bcb8-14fd483d63a5",
   "metadata": {},
   "outputs": [],
   "source": []
  }
 ],
 "metadata": {
  "kernelspec": {
   "display_name": "Python 3 (ipykernel)",
   "language": "python",
   "name": "python3"
  },
  "language_info": {
   "codemirror_mode": {
    "name": "ipython",
    "version": 3
   },
   "file_extension": ".py",
   "mimetype": "text/x-python",
   "name": "python",
   "nbconvert_exporter": "python",
   "pygments_lexer": "ipython3",
   "version": "3.12.3"
  }
 },
 "nbformat": 4,
 "nbformat_minor": 5
}

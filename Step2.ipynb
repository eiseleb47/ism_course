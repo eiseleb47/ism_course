{
 "cells": [
  {
   "cell_type": "code",
   "execution_count": 1,
   "id": "b037b27a-0fea-44fb-b5ce-6089d5a32644",
   "metadata": {
    "deletable": true,
    "editable": true,
    "execution": {
     "iopub.execute_input": "2025-10-24T11:04:15.189801Z",
     "iopub.status.busy": "2025-10-24T11:04:15.189061Z",
     "iopub.status.idle": "2025-10-24T11:04:16.522450Z",
     "shell.execute_reply": "2025-10-24T11:04:16.521093Z",
     "shell.execute_reply.started": "2025-10-24T11:04:15.189738Z"
    },
    "frozen": false
   },
   "outputs": [],
   "source": [
    "# you can skip it, I just like interactive charts\n",
    "%matplotlib Qt"
   ]
  },
  {
   "cell_type": "code",
   "execution_count": 2,
   "id": "34b6ebb6-9059-4577-9247-304f82dc7b05",
   "metadata": {
    "deletable": true,
    "editable": true,
    "execution": {
     "iopub.execute_input": "2025-10-24T11:04:16.525539Z",
     "iopub.status.busy": "2025-10-24T11:04:16.525104Z",
     "iopub.status.idle": "2025-10-24T11:04:18.070373Z",
     "shell.execute_reply": "2025-10-24T11:04:18.069007Z",
     "shell.execute_reply.started": "2025-10-24T11:04:16.525496Z"
    },
    "frozen": false
   },
   "outputs": [],
   "source": [
    "import numpy as np\n",
    "from matplotlib import pyplot as plt\n",
    "from astropy.coordinates import SkyCoord\n",
    "import astropy.units as u\n",
    "from astropy.wcs import WCS\n",
    "from astropy.visualization.wcsaxes import SphericalCircle\n",
    "import pandas as pd\n",
    "# nice progressbar\n",
    "from tqdm import tqdm"
   ]
  },
  {
   "cell_type": "code",
   "execution_count": 3,
   "id": "205a359b-dcde-42bd-ae2a-89701e1e9d74",
   "metadata": {
    "deletable": true,
    "editable": true,
    "execution": {
     "iopub.execute_input": "2025-10-24T11:04:18.071850Z",
     "iopub.status.busy": "2025-10-24T11:04:18.071439Z",
     "iopub.status.idle": "2025-10-24T11:04:18.521041Z",
     "shell.execute_reply": "2025-10-24T11:04:18.517717Z",
     "shell.execute_reply.started": "2025-10-24T11:04:18.071823Z"
    },
    "frozen": false
   },
   "outputs": [],
   "source": [
    "data = pd.read_csv(\"gaia.csv\")\n",
    "data = data.dropna(subset=['Gmag'])\n",
    "mask = (data['Gmag'] > 0) & (data['Gmag'] < 200)\n",
    "data = data[mask]\n",
    "coords = SkyCoord(ra=data[\"RA_ICRS\"], dec=data[\"DE_ICRS\"], frame='icrs', unit=u.degree)"
   ]
  },
  {
   "cell_type": "code",
   "execution_count": null,
   "id": "26cd2357-7aab-4757-86d2-91db86e71679",
   "metadata": {},
   "outputs": [],
   "source": []
  },
  {
   "cell_type": "markdown",
   "id": "537f68cc-6b5a-4fe4-a880-5dff38997aea",
   "metadata": {
    "deletable": true,
    "editable": true,
    "frozen": false
   },
   "source": [
    "#### Grid"
   ]
  },
  {
   "cell_type": "markdown",
   "id": "2373ad2c-0b7b-46a9-aa8f-b64a87d0d66d",
   "metadata": {
    "deletable": true,
    "editable": true,
    "frozen": false
   },
   "source": [
    "I create a rectangular grid. The boundaries are minimal and maximal RA and DEC from the given catalogue."
   ]
  },
  {
   "cell_type": "code",
   "execution_count": 4,
   "id": "a37f272a-9f3d-472c-b9c5-24c54a412505",
   "metadata": {
    "deletable": true,
    "editable": true,
    "execution": {
     "iopub.execute_input": "2025-10-24T11:04:18.739382Z",
     "iopub.status.busy": "2025-10-24T11:04:18.738666Z",
     "iopub.status.idle": "2025-10-24T11:04:18.749428Z",
     "shell.execute_reply": "2025-10-24T11:04:18.745981Z",
     "shell.execute_reply.started": "2025-10-24T11:04:18.739324Z"
    },
    "frozen": false
   },
   "outputs": [],
   "source": [
    "# grid_step = 1 # in arcmin\n",
    "# ra_grid = np.arange(coords.ra.min().to(u.arcmin).value, coords.ra.max().to(u.arcmin).value, grid_step)\n",
    "# dec_grid = np.arange(coords.dec.min().to(u.arcmin).value, coords.dec.max().to(u.arcmin).value, grid_step)\n",
    "# ra_v, dec_v = np.meshgrid(ra_grid, dec_grid)\n",
    "# # now grid is a 2-d array, each element is SkyCoord (ra,dec)\n",
    "# grid = SkyCoord(ra_v, dec_v, unit=u.arcmin)"
   ]
  },
  {
   "cell_type": "code",
   "execution_count": 5,
   "id": "22416cb9-3a8e-4338-8f68-eac6109e6495",
   "metadata": {
    "deletable": true,
    "editable": true,
    "execution": {
     "iopub.execute_input": "2025-10-24T11:04:22.733696Z",
     "iopub.status.busy": "2025-10-24T11:04:22.733344Z",
     "iopub.status.idle": "2025-10-24T11:04:22.742813Z",
     "shell.execute_reply": "2025-10-24T11:04:22.741355Z",
     "shell.execute_reply.started": "2025-10-24T11:04:22.733668Z"
    },
    "frozen": false
   },
   "outputs": [],
   "source": [
    "def create_wcs(center: SkyCoord, cdelt=1*u.arcmin, size=1*u.deg):\n",
    "    pixsize = int((size.to(cdelt.unit)/cdelt).value)\n",
    "    \n",
    "    wcs = WCS(naxis=2)\n",
    "    wcs.wcs.cdelt = [-cdelt.value, cdelt.value]\n",
    "    wcs.wcs.cunit = [cdelt.unit, cdelt.unit]\n",
    "    wcs.wcs.ctype = [\"RA\", \"DEC\"]\n",
    "    wcs.wcs.crpix = [pixsize/2., pixsize/2.]\n",
    "    wcs.wcs.crval = [center.ra.to(cdelt.unit).value, center.dec.to(cdelt.unit).value]\n",
    "    wcs.pixel_shape = [pixsize, pixsize]\n",
    "    return(wcs)\n",
    "# self.slit_wcs.wcs.latpole = 0.\n",
    "# self.slit_wcs.wcs.lonpole = 180.\n",
    "# self.slit_wcs.wcs.equinox = 2000.0\n",
    "\n",
    "# w_header = self.slit_wcs.to_header()\n",
    "# w_header['NAXIS'] = 2\n",
    "# w_header['NAXIS1'], w_header['NAXIS2'] = self.slit_wcs.pixel_shape"
   ]
  },
  {
   "cell_type": "code",
   "execution_count": null,
   "id": "79638d1b-ef71-469d-b441-8f63e4b5b9db",
   "metadata": {
    "deletable": true,
    "editable": true,
    "frozen": false
   },
   "outputs": [],
   "source": []
  },
  {
   "cell_type": "code",
   "execution_count": 6,
   "id": "f14d7dbc-cb07-45f3-ba4b-5c5062c4cb1b",
   "metadata": {
    "deletable": true,
    "editable": true,
    "execution": {
     "iopub.execute_input": "2025-10-24T11:04:23.326150Z",
     "iopub.status.busy": "2025-10-24T11:04:23.325587Z",
     "iopub.status.idle": "2025-10-24T11:04:23.379168Z",
     "shell.execute_reply": "2025-10-24T11:04:23.376604Z",
     "shell.execute_reply.started": "2025-10-24T11:04:23.326101Z"
    },
    "frozen": false
   },
   "outputs": [],
   "source": [
    "center = SkyCoord('03:29:11.28 +31:18:36.00', unit=(u.hourangle, u.deg))\n",
    "# center = SkyCoord(ra_grid.mean(), dec_grid.mean(), unit=(u.arcsec, u.arcsec))\n",
    "cdelt = 1 * u.arcmin\n",
    "wcs = create_wcs(center, cdelt, size=2*u.deg)"
   ]
  },
  {
   "cell_type": "code",
   "execution_count": 18,
   "id": "bef49aed-6c84-4fad-ba22-9b04bd45ffaf",
   "metadata": {
    "deletable": true,
    "editable": true,
    "execution": {
     "iopub.execute_input": "2025-10-24T11:18:46.677362Z",
     "iopub.status.busy": "2025-10-24T11:18:46.676942Z",
     "iopub.status.idle": "2025-10-24T11:18:46.685413Z",
     "shell.execute_reply": "2025-10-24T11:18:46.684164Z",
     "shell.execute_reply.started": "2025-10-24T11:18:46.677330Z"
    },
    "frozen": false
   },
   "outputs": [
    {
     "data": {
      "text/plain": [
       "array([ True,  True,  True, ...,  True,  True,  True], shape=(9536,))"
      ]
     },
     "execution_count": 18,
     "metadata": {},
     "output_type": "execute_result"
    }
   ],
   "source": [
    "mask = coords.ra < center.ra\n",
    "mask[mask]"
   ]
  },
  {
   "cell_type": "markdown",
   "id": "4bc8e7c3-3349-4196-bd99-74afe029a16b",
   "metadata": {
    "deletable": true,
    "editable": true,
    "frozen": false
   },
   "source": [
    "#### Sourse density map"
   ]
  },
  {
   "cell_type": "code",
   "execution_count": 8,
   "id": "2e733f36-a5b8-40a5-89d6-420f5a040745",
   "metadata": {
    "deletable": true,
    "editable": true,
    "execution": {
     "iopub.execute_input": "2025-10-24T10:39:09.756023Z",
     "iopub.status.busy": "2025-10-24T10:39:09.755554Z",
     "iopub.status.idle": "2025-10-24T10:39:51.891573Z",
     "shell.execute_reply": "2025-10-24T10:39:51.890492Z",
     "shell.execute_reply.started": "2025-10-24T10:39:09.755986Z"
    },
    "frozen": false
   },
   "outputs": [
    {
     "name": "stderr",
     "output_type": "stream",
     "text": [
      "100%|█████████████████████████████████████████| 120/120 [00:42<00:00,  2.85it/s]\n"
     ]
    }
   ],
   "source": [
    "density = np.zeros(wcs.pixel_shape, dtype=float)\n",
    "\n",
    "imax, jmax = wcs.pixel_shape\n",
    "\n",
    "# it takes about 40s on my computer with density_window=5\n",
    "density_window = 10*u.arcmin # diameter of region in which we calculate density\n",
    "for i in tqdm(range(imax)):\n",
    "    for j in range(jmax):\n",
    "        mask = wcs.pixel_to_world(j, i).separation(coords) < density_window\n",
    "        density[i,j] = len(mask[mask])"
   ]
  },
  {
   "cell_type": "code",
   "execution_count": 8,
   "id": "f13b5066-cc8c-42fe-acb3-7672c840978e",
   "metadata": {
    "deletable": true,
    "editable": true,
    "execution": {
     "iopub.execute_input": "2025-10-24T11:04:29.406765Z",
     "iopub.status.busy": "2025-10-24T11:04:29.406322Z",
     "iopub.status.idle": "2025-10-24T11:04:30.001463Z",
     "shell.execute_reply": "2025-10-24T11:04:30.000118Z",
     "shell.execute_reply.started": "2025-10-24T11:04:29.406732Z"
    },
    "frozen": false
   },
   "outputs": [
    {
     "ename": "NameError",
     "evalue": "name 'density' is not defined",
     "output_type": "error",
     "traceback": [
      "\u001b[31m---------------------------------------------------------------------------\u001b[39m",
      "\u001b[31mNameError\u001b[39m                                 Traceback (most recent call last)",
      "\u001b[36mCell\u001b[39m\u001b[36m \u001b[39m\u001b[32mIn[8]\u001b[39m\u001b[32m, line 4\u001b[39m\n\u001b[32m      2\u001b[39m fig1, ax1 = plt.subplots(subplot_kw=\u001b[38;5;28mdict\u001b[39m(projection=wcs))\n\u001b[32m      3\u001b[39m \u001b[38;5;66;03m# ax.imshow(density[:,::-1], origin='lower')\u001b[39;00m\n\u001b[32m----> \u001b[39m\u001b[32m4\u001b[39m ax1.imshow(\u001b[43mdensity\u001b[49m, origin=\u001b[33m'\u001b[39m\u001b[33mlower\u001b[39m\u001b[33m'\u001b[39m)\n",
      "\u001b[31mNameError\u001b[39m: name 'density' is not defined"
     ]
    }
   ],
   "source": [
    "# need to inverse array so that it cossesponds to the aladin axis orientation\n",
    "fig1, ax1 = plt.subplots(subplot_kw=dict(projection=wcs))\n",
    "# ax.imshow(density[:,::-1], origin='lower')\n",
    "ax1.imshow(density, origin='lower')"
   ]
  },
  {
   "cell_type": "code",
   "execution_count": 9,
   "id": "82e76974-10ab-409d-91e1-d38046fa57de",
   "metadata": {
    "deletable": true,
    "editable": true,
    "execution": {
     "iopub.execute_input": "2025-10-24T11:04:41.323740Z",
     "iopub.status.busy": "2025-10-24T11:04:41.323248Z",
     "iopub.status.idle": "2025-10-24T11:04:41.354365Z",
     "shell.execute_reply": "2025-10-24T11:04:41.352826Z",
     "shell.execute_reply.started": "2025-10-24T11:04:41.323704Z"
    },
    "frozen": false
   },
   "outputs": [],
   "source": [
    "x, y = wcs.world_to_pixel(coords)\n",
    "map_dens, _, _ = np.histogram2d(y, x, wcs.pixel_shape)"
   ]
  },
  {
   "cell_type": "code",
   "execution_count": 10,
   "id": "b8c5bee1-1ea6-4125-b4b1-210e19c1e656",
   "metadata": {
    "deletable": true,
    "editable": true,
    "execution": {
     "iopub.execute_input": "2025-10-24T11:04:41.861599Z",
     "iopub.status.busy": "2025-10-24T11:04:41.860824Z",
     "iopub.status.idle": "2025-10-24T11:04:41.992849Z",
     "shell.execute_reply": "2025-10-24T11:04:41.990264Z",
     "shell.execute_reply.started": "2025-10-24T11:04:41.861537Z"
    },
    "frozen": false
   },
   "outputs": [
    {
     "data": {
      "text/plain": [
       "<matplotlib.image.AxesImage at 0x7e3272b8deb0>"
      ]
     },
     "execution_count": 10,
     "metadata": {},
     "output_type": "execute_result"
    }
   ],
   "source": [
    "# need to inverse array so that it cossesponds to the aladin axis orientation\n",
    "fig1, ax1 = plt.subplots(subplot_kw=dict(projection=wcs))\n",
    "# ax.imshow(density[:,::-1], origin='lower')\n",
    "ax1.imshow(map_dens, origin='lower')"
   ]
  },
  {
   "cell_type": "code",
   "execution_count": 51,
   "id": "4293f8ba-23f1-40ac-81c8-42fada91bb10",
   "metadata": {
    "deletable": false,
    "editable": false,
    "execution": {
     "iopub.execute_input": "2025-10-24T08:50:17.920098Z",
     "iopub.status.busy": "2025-10-24T08:50:17.919758Z",
     "iopub.status.idle": "2025-10-24T08:50:18.015442Z",
     "shell.execute_reply": "2025-10-24T08:50:18.013715Z",
     "shell.execute_reply.started": "2025-10-24T08:50:17.920072Z"
    },
    "frozen": true
   },
   "outputs": [
    {
     "data": {
      "text/plain": [
       "[<matplotlib.lines.Line2D at 0x7cf369616330>]"
      ]
     },
     "execution_count": 51,
     "metadata": {},
     "output_type": "execute_result"
    }
   ],
   "source": [
    "density_dis = density.flatten()\n",
    "density_dis = density_dis[density_dis !=0]\n",
    "n, num = np.histogram(density_dis, bins=10)\n",
    "num = (num[:-1] + num[1:])/2\n",
    "plt.figure()\n",
    "plt.plot(num, n)"
   ]
  },
  {
   "cell_type": "markdown",
   "id": "ef6d419c-35c8-4275-a9fd-658b25ad66b6",
   "metadata": {
    "deletable": true,
    "editable": true,
    "frozen": false
   },
   "source": [
    "### Select region"
   ]
  },
  {
   "cell_type": "code",
   "execution_count": 11,
   "id": "8c3ebb8c-9f21-4748-851a-96863d5d1d1d",
   "metadata": {
    "deletable": true,
    "editable": true,
    "execution": {
     "iopub.execute_input": "2025-10-24T11:04:56.594804Z",
     "iopub.status.busy": "2025-10-24T11:04:56.594367Z",
     "iopub.status.idle": "2025-10-24T11:04:56.601385Z",
     "shell.execute_reply": "2025-10-24T11:04:56.599158Z",
     "shell.execute_reply.started": "2025-10-24T11:04:56.594771Z"
    },
    "frozen": false
   },
   "outputs": [],
   "source": [
    "def stars_from_region(data, coords, center, size):\n",
    "    mask = center.separation(coords) < size\n",
    "    return data[mask], coords[mask]"
   ]
  },
  {
   "cell_type": "code",
   "execution_count": 34,
   "id": "a57bc018-c130-406a-b484-0348622ca90e",
   "metadata": {
    "deletable": true,
    "editable": true,
    "execution": {
     "iopub.execute_input": "2025-10-24T11:27:46.332797Z",
     "iopub.status.busy": "2025-10-24T11:27:46.332450Z",
     "iopub.status.idle": "2025-10-24T11:27:46.339262Z",
     "shell.execute_reply": "2025-10-24T11:27:46.337653Z",
     "shell.execute_reply.started": "2025-10-24T11:27:46.332771Z"
    },
    "frozen": false
   },
   "outputs": [],
   "source": [
    "def hist_from_data(data, bins, min_mag=16, max_mag=20):\n",
    "    N, m = np.histogram(data['Gmag'], bins=bins)\n",
    "    m = (m[:-1] + m[1:])/2\n",
    "    N = np.log10(np.cumsum(N))\n",
    "    mask = (m > min_mag) & (m < max_mag)\n",
    "    mask2 = (data['Gmag'] > min_mag) & (data['Gmag'] < max_mag)\n",
    "    return N[mask], m[mask], len(mask2[mask2])"
   ]
  },
  {
   "cell_type": "markdown",
   "id": "fd08a9d0-8ab8-4bbd-8bc3-abae882ded70",
   "metadata": {
    "deletable": true,
    "editable": true,
    "frozen": false
   },
   "source": [
    "## Source histogram"
   ]
  },
  {
   "cell_type": "code",
   "execution_count": 37,
   "id": "101e957e-44c0-48bb-b50f-883f01a2596f",
   "metadata": {
    "deletable": true,
    "editable": true,
    "execution": {
     "iopub.execute_input": "2025-10-24T11:47:23.656117Z",
     "iopub.status.busy": "2025-10-24T11:47:23.655763Z",
     "iopub.status.idle": "2025-10-24T11:47:23.800749Z",
     "shell.execute_reply": "2025-10-24T11:47:23.798741Z",
     "shell.execute_reply.started": "2025-10-24T11:47:23.656088Z"
    },
    "frozen": false
   },
   "outputs": [],
   "source": [
    "fig1, ax1 = plt.subplots(subplot_kw=dict(projection=wcs))\n",
    "fig2, ax2 = plt.subplots()\n",
    "ax1.imshow(map_dens, origin='lower')\n",
    "# r = SphericalCircle((center.ra, center.dec), 1*u.deg,\n",
    "#                      edgecolor='green', facecolor='none',\n",
    "#                      transform=ax1.get_transform('fk5'))\n",
    "# ax1.add_patch(r)\n",
    "reg_size = 16*u.arcmin"
   ]
  },
  {
   "cell_type": "code",
   "execution_count": 38,
   "id": "ef0fffe0-7573-4d85-9d85-a99d656a39cb",
   "metadata": {
    "deletable": true,
    "editable": true,
    "execution": {
     "iopub.execute_input": "2025-10-24T11:47:24.154275Z",
     "iopub.status.busy": "2025-10-24T11:47:24.153545Z",
     "iopub.status.idle": "2025-10-24T11:47:24.345977Z",
     "shell.execute_reply": "2025-10-24T11:47:24.342705Z",
     "shell.execute_reply.started": "2025-10-24T11:47:24.154215Z"
    },
    "frozen": false
   },
   "outputs": [
    {
     "name": "stdout",
     "output_type": "stream",
     "text": [
      "1031\n",
      "0.23261054744944776\n",
      "867\n",
      "0.22310624320557615\n",
      "978\n",
      "0.23122991088917155\n",
      "923\n",
      "0.25851261910228907\n"
     ]
    }
   ],
   "source": [
    "regs = ['03:28:07.84 +31:59:21.2',\n",
    "        '03:26:24.14 +31:06:01.1',\n",
    "        '03:30:36.56 +31:11:56.6',\n",
    "        '03:31:27.32 +31:42:56.1']\n",
    "b = []\n",
    "n = []\n",
    "for r in regs:\n",
    "    reg_cen = SkyCoord(r, unit=(u.hourangle, u.deg))\n",
    "    reg_data, reg_coords = stars_from_region(data, coords, reg_cen, reg_size)\n",
    "    logN, m, tot = hist_from_data(reg_data, 20)\n",
    "    print(tot)\n",
    "    n.append(tot)\n",
    "    p = np.polynomial.Polynomial.fit(m, logN, 1)\n",
    "    print(p(1) - p(0))\n",
    "    b.append(p(1) - p(0))\n",
    "    ax2.plot(m, logN, 'k')\n",
    "    ax2.plot(m, p(m), 'b')\n",
    "    r = SphericalCircle((reg_cen.ra, reg_cen.dec), reg_size,\n",
    "                     edgecolor='yellow', facecolor='none',\n",
    "                     transform=ax1.get_transform('fk5'))\n",
    "    ax1.add_patch(r)\n",
    "b = np.average(b)\n",
    "n = np.average(n)"
   ]
  },
  {
   "cell_type": "code",
   "execution_count": 39,
   "id": "ea08beb0-e8c2-4c9b-886a-669fad9e485c",
   "metadata": {
    "deletable": true,
    "editable": true,
    "execution": {
     "iopub.execute_input": "2025-10-24T11:47:26.743006Z",
     "iopub.status.busy": "2025-10-24T11:47:26.742632Z",
     "iopub.status.idle": "2025-10-24T11:47:26.807281Z",
     "shell.execute_reply": "2025-10-24T11:47:26.805158Z",
     "shell.execute_reply.started": "2025-10-24T11:47:26.742976Z"
    },
    "frozen": false
   },
   "outputs": [
    {
     "name": "stdout",
     "output_type": "stream",
     "text": [
      "0.2071786547561607\n",
      "0.2071786547561607\n"
     ]
    }
   ],
   "source": [
    "regs = ['03:29:00 +31:27:0',\n",
    "        '03:29:00 +31:27:0']\n",
    "for r in regs:\n",
    "    reg_cen = SkyCoord(r, unit=(u.hourangle, u.deg))\n",
    "    reg_data, reg_coords = stars_from_region(data, coords, reg_cen, reg_size)\n",
    "    logN, m, tot = hist_from_data(reg_data, 20)\n",
    "    p = np.polynomial.Polynomial.fit(m, logN, 1)\n",
    "    print(p(1) - p(0))\n",
    "    ax2.plot(m, logN, 'r')\n",
    "    ax2.plot(m, p(m), 'b')\n",
    "    r = SphericalCircle((reg_cen.ra, reg_cen.dec), reg_size,\n",
    "                     edgecolor='red', facecolor='none',\n",
    "                     transform=ax1.get_transform('fk5'))\n",
    "    ax1.add_patch(r)"
   ]
  },
  {
   "cell_type": "code",
   "execution_count": 42,
   "id": "6b94c402-a53d-4a02-bcb8-14fd483d63a5",
   "metadata": {
    "deletable": true,
    "editable": true,
    "execution": {
     "iopub.execute_input": "2025-10-24T11:55:21.778373Z",
     "iopub.status.busy": "2025-10-24T11:55:21.777966Z",
     "iopub.status.idle": "2025-10-24T11:56:11.756691Z",
     "shell.execute_reply": "2025-10-24T11:56:11.756155Z",
     "shell.execute_reply.started": "2025-10-24T11:55:21.778343Z"
    },
    "frozen": false
   },
   "outputs": [
    {
     "name": "stderr",
     "output_type": "stream",
     "text": [
      "100%|█████████████████████████████████████████| 120/120 [00:49<00:00,  2.40it/s]\n"
     ]
    }
   ],
   "source": [
    "AG = np.zeros(wcs.pixel_shape, dtype=float)\n",
    "\n",
    "imax, jmax = wcs.pixel_shape\n",
    "\n",
    "for i in tqdm(range(imax)):\n",
    "    for j in range(jmax):\n",
    "        reg_cen = wcs.pixel_to_world(j, i)\n",
    "        if reg_cen.separation(center) > 50*u.arcmin:\n",
    "            AG[i,j] = np.nan\n",
    "            continue\n",
    "        reg_data, reg_coords = stars_from_region(data, coords, reg_cen, reg_size)\n",
    "        logN, m, tot = hist_from_data(reg_data, 20)\n",
    "        if tot > 0:\n",
    "            AG[i, j] = np.log10(n/tot)/b\n",
    "        else:\n",
    "            AG[i,j] = np.nan"
   ]
  },
  {
   "cell_type": "code",
   "execution_count": 43,
   "id": "606ba4a5-f463-4285-921e-6f9214684cea",
   "metadata": {
    "execution": {
     "iopub.execute_input": "2025-10-24T11:56:15.993074Z",
     "iopub.status.busy": "2025-10-24T11:56:15.992731Z",
     "iopub.status.idle": "2025-10-24T11:56:16.092936Z",
     "shell.execute_reply": "2025-10-24T11:56:16.090780Z",
     "shell.execute_reply.started": "2025-10-24T11:56:15.993047Z"
    }
   },
   "outputs": [
    {
     "data": {
      "text/plain": [
       "<matplotlib.image.AxesImage at 0x7e325f77dbe0>"
      ]
     },
     "execution_count": 43,
     "metadata": {},
     "output_type": "execute_result"
    }
   ],
   "source": [
    "# need to inverse array so that it cossesponds to the aladin axis orientation\n",
    "fig1, ax1 = plt.subplots(subplot_kw=dict(projection=wcs))\n",
    "# ax.imshow(density[:,::-1], origin='lower')\n",
    "ax1.imshow(AG, origin='lower')"
   ]
  },
  {
   "cell_type": "code",
   "execution_count": null,
   "id": "066dab44-39fa-4267-a71a-0ecb86f14fcc",
   "metadata": {},
   "outputs": [],
   "source": []
  }
 ],
 "metadata": {
  "kernelspec": {
   "display_name": "Python 3 (ipykernel)",
   "language": "python",
   "name": "python3"
  },
  "language_info": {
   "codemirror_mode": {
    "name": "ipython",
    "version": 3
   },
   "file_extension": ".py",
   "mimetype": "text/x-python",
   "name": "python",
   "nbconvert_exporter": "python",
   "pygments_lexer": "ipython3",
   "version": "3.12.3"
  }
 },
 "nbformat": 4,
 "nbformat_minor": 5
}
